{
  "nbformat": 4,
  "nbformat_minor": 0,
  "metadata": {
    "colab": {
      "name": "Group9.ipynb",
      "provenance": [],
      "collapsed_sections": []
    },
    "kernelspec": {
      "name": "python3",
      "display_name": "Python 3"
    }
  },
  "cells": [
    {
      "cell_type": "code",
      "metadata": {
        "colab": {
          "base_uri": "https://localhost:8080/"
        },
        "id": "0XQPW17_YiMt",
        "outputId": "0fe29358-5fd6-4f71-b53b-667cbefc8788"
      },
      "source": [
        "from google.colab import drive \r\n",
        "drive.mount('/content/drive')"
      ],
      "execution_count": 1,
      "outputs": [
        {
          "output_type": "stream",
          "text": [
            "Mounted at /content/drive\n"
          ],
          "name": "stdout"
        }
      ]
    },
    {
      "cell_type": "code",
      "metadata": {
        "id": "N2WmsBHQaANL",
        "colab": {
          "base_uri": "https://localhost:8080/"
        },
        "outputId": "c183023f-0381-495e-dc96-0af843cab514"
      },
      "source": [
        "import pandas as pd\r\n",
        "import numpy as np\r\n",
        "import matplotlib.pyplot as plt\r\n",
        "import seaborn as sns\r\n",
        "import math\r\n",
        "import scipy.stats as stats\r\n",
        "from scipy.stats import ttest_1samp\r\n",
        "from statsmodels.stats.power import tt_ind_solve_power"
      ],
      "execution_count": 2,
      "outputs": [
        {
          "output_type": "stream",
          "text": [
            "/usr/local/lib/python3.7/dist-packages/statsmodels/tools/_testing.py:19: FutureWarning: pandas.util.testing is deprecated. Use the functions in the public API at pandas.testing instead.\n",
            "  import pandas.util.testing as tm\n"
          ],
          "name": "stderr"
        }
      ]
    },
    {
      "cell_type": "code",
      "metadata": {
        "colab": {
          "base_uri": "https://localhost:8080/",
          "height": 297
        },
        "id": "t3kU84R7aR8B",
        "outputId": "05726a40-d8f6-45af-c934-b5f19cd0a498"
      },
      "source": [
        "data=pd.read_excel('/content/drive/MyDrive/BMI.xls')\r\n",
        "data"
      ],
      "execution_count": 3,
      "outputs": [
        {
          "output_type": "execute_result",
          "data": {
            "text/html": [
              "<div>\n",
              "<style scoped>\n",
              "    .dataframe tbody tr th:only-of-type {\n",
              "        vertical-align: middle;\n",
              "    }\n",
              "\n",
              "    .dataframe tbody tr th {\n",
              "        vertical-align: top;\n",
              "    }\n",
              "\n",
              "    .dataframe thead th {\n",
              "        text-align: right;\n",
              "    }\n",
              "</style>\n",
              "<table border=\"1\" class=\"dataframe\">\n",
              "  <thead>\n",
              "    <tr style=\"text-align: right;\">\n",
              "      <th></th>\n",
              "      <th>Name</th>\n",
              "      <th>Age</th>\n",
              "      <th>Gender</th>\n",
              "      <th>Height</th>\n",
              "      <th>Weight</th>\n",
              "      <th>BMI Value</th>\n",
              "      <th>BMI Status</th>\n",
              "    </tr>\n",
              "  </thead>\n",
              "  <tbody>\n",
              "    <tr>\n",
              "      <th>0</th>\n",
              "      <td>Shivani</td>\n",
              "      <td>21</td>\n",
              "      <td>F</td>\n",
              "      <td>164</td>\n",
              "      <td>60</td>\n",
              "      <td>22.3</td>\n",
              "      <td>Normal</td>\n",
              "    </tr>\n",
              "    <tr>\n",
              "      <th>1</th>\n",
              "      <td>Gaurav</td>\n",
              "      <td>22</td>\n",
              "      <td>M</td>\n",
              "      <td>180</td>\n",
              "      <td>83</td>\n",
              "      <td>25.6</td>\n",
              "      <td>Overweight</td>\n",
              "    </tr>\n",
              "    <tr>\n",
              "      <th>2</th>\n",
              "      <td>Hamza</td>\n",
              "      <td>25</td>\n",
              "      <td>M</td>\n",
              "      <td>176</td>\n",
              "      <td>65</td>\n",
              "      <td>21.0</td>\n",
              "      <td>Normal</td>\n",
              "    </tr>\n",
              "    <tr>\n",
              "      <th>3</th>\n",
              "      <td>Preeti</td>\n",
              "      <td>26</td>\n",
              "      <td>F</td>\n",
              "      <td>160</td>\n",
              "      <td>62</td>\n",
              "      <td>24.2</td>\n",
              "      <td>Normal</td>\n",
              "    </tr>\n",
              "    <tr>\n",
              "      <th>4</th>\n",
              "      <td>Aniket</td>\n",
              "      <td>30</td>\n",
              "      <td>M</td>\n",
              "      <td>182</td>\n",
              "      <td>90</td>\n",
              "      <td>27.2</td>\n",
              "      <td>Overweight</td>\n",
              "    </tr>\n",
              "    <tr>\n",
              "      <th>5</th>\n",
              "      <td>Suraj</td>\n",
              "      <td>27</td>\n",
              "      <td>M</td>\n",
              "      <td>170</td>\n",
              "      <td>45</td>\n",
              "      <td>15.6</td>\n",
              "      <td>Underweight</td>\n",
              "    </tr>\n",
              "    <tr>\n",
              "      <th>6</th>\n",
              "      <td>Nidhi</td>\n",
              "      <td>18</td>\n",
              "      <td>F</td>\n",
              "      <td>158</td>\n",
              "      <td>72</td>\n",
              "      <td>28.8</td>\n",
              "      <td>Overweight</td>\n",
              "    </tr>\n",
              "    <tr>\n",
              "      <th>7</th>\n",
              "      <td>Kayum</td>\n",
              "      <td>20</td>\n",
              "      <td>M</td>\n",
              "      <td>170</td>\n",
              "      <td>55</td>\n",
              "      <td>19.0</td>\n",
              "      <td>Underweight</td>\n",
              "    </tr>\n",
              "  </tbody>\n",
              "</table>\n",
              "</div>"
            ],
            "text/plain": [
              "      Name  Age  Gender  Height  Weight   BMI Value   BMI Status\n",
              "0  Shivani    21      F     164       60       22.3       Normal\n",
              "1   Gaurav    22      M     180       83       25.6   Overweight\n",
              "2    Hamza    25      M     176       65       21.0       Normal\n",
              "3   Preeti    26      F     160       62       24.2       Normal\n",
              "4   Aniket    30      M     182       90       27.2   Overweight\n",
              "5    Suraj    27      M     170       45       15.6  Underweight\n",
              "6    Nidhi    18      F     158       72       28.8   Overweight\n",
              "7    Kayum    20      M     170       55       19.0  Underweight"
            ]
          },
          "metadata": {
            "tags": []
          },
          "execution_count": 3
        }
      ]
    },
    {
      "cell_type": "markdown",
      "metadata": {
        "id": "0-e-kREd-BRQ"
      },
      "source": [
        "### Hypothesis Testing or Significance Testing"
      ]
    },
    {
      "cell_type": "markdown",
      "metadata": {
        "id": "5GyneTUB_fHo"
      },
      "source": [
        "---"
      ]
    },
    {
      "cell_type": "markdown",
      "metadata": {
        "id": "CNM4ymji_irF"
      },
      "source": [
        "Hypothesis testing is a statistical method that is used in making statistical decisions using experimental data.  Hypothesis Testing is basically an assumption that we make about the population parameter.\r\n",
        "\r\n",
        "There are many different statistical significance, or hypothesis, tests. They all follow the same basic principle. The appropriate test for a given situation depends on the nature of the data being analysed."
      ]
    },
    {
      "cell_type": "markdown",
      "metadata": {
        "id": "kGDH6RLLGIoC"
      },
      "source": [
        "***Null hypothesis:***\r\n",
        "\r\n",
        "All statistical significance tests start with a null hypothesis. A statistical significance test measures the strength of evidence that the data sample supplies for or against some proposition of interest.\r\n",
        "\r\n",
        "This proposition is known as a 'null hypothesis', since it usually relates to there being 'no difference' between groups' or 'no effect' of a treatment.\r\n",
        "\r\n",
        "For example:\r\n",
        "\r\n",
        "1.CMV infected babies have the same average birthweight as non-infected babies.\r\n",
        "\r\n",
        "2.ß-thalassaemia does not have any effect on ferritin level.\r\n",
        "\r\n",
        "3.Recombinant human erythropoietin has no effect on the haemoglobin levels in premature infants.\r\n",
        "\r\n",
        "Even if our hypothesis is not to do with 'no difference' it is still convention that the hypothesis being tested is known as the ***null hypothesis***."
      ]
    },
    {
      "cell_type": "markdown",
      "metadata": {
        "id": "zo_Dr3Z3iLX2"
      },
      "source": [
        "---\r\n",
        "---"
      ]
    },
    {
      "cell_type": "markdown",
      "metadata": {
        "id": "coN9g08ib1Mn"
      },
      "source": [
        "1) check if population mean value of BMI is significantly different than  23 . Use 0.05 as α (los).\r\n",
        "\r\n",
        "Null Hypothesis will be\r\n",
        "\r\n",
        "Ho : mu = 23 \r\n",
        "\r\n",
        "Alternate Hypothesis will be\r\n",
        "\r\n",
        "H1 : mu != 23\r\n"
      ]
    },
    {
      "cell_type": "markdown",
      "metadata": {
        "id": "jTYt74imGyJU"
      },
      "source": [
        "### **`One Sample t-test`**\r\n",
        "\r\n",
        "This test is appropriate when a continuous variable is recorded on a single sample of individuals or items and the mean value is to be tested against some hypothesised population mean"
      ]
    },
    {
      "cell_type": "markdown",
      "metadata": {
        "id": "Ae00hdqed5un"
      },
      "source": [
        "Here we use t test as we don't know the population variance and the sample size is less than 30."
      ]
    },
    {
      "cell_type": "code",
      "metadata": {
        "colab": {
          "base_uri": "https://localhost:8080/"
        },
        "id": "4w_C6tREblRn",
        "outputId": "9675d693-4023-4ebc-fc82-328c414229f0"
      },
      "source": [
        "def hypothesisTesting(df,column,H0,H1,alpha,mean,tailTest):\r\n",
        "    ts, pv = ttest_1samp(df[column].values, mean)\r\n",
        "    t2pv = pv\r\n",
        "    t1pv = pv*2\r\n",
        "    if tailTest == 1:\r\n",
        "        if t1pv < alpha:\r\n",
        "            print(\"Null Hypothesis: Rejected\")\r\n",
        "            print(\"Conclusion:\",H1)\r\n",
        "        else:\r\n",
        "            print(\"Null Hypothesis: Not Rejected\")\r\n",
        "            print(\"Conclusion:\",H0)\r\n",
        "    else:\r\n",
        "        if t2pv < alpha/2:\r\n",
        "            print(\"Null Hypothesis: Rejected\")\r\n",
        "            print(\"Conclusion:\",H1)\r\n",
        "        else:\r\n",
        "            print(\"Null Hypothesis: Not Rejected\")\r\n",
        "            print(\"Conclusion:\",H0)\r\n",
        " \r\n",
        "hypothesisTesting(data,'BMI Value','mean = 23','mean != 23',0.05,23,2)"
      ],
      "execution_count": 4,
      "outputs": [
        {
          "output_type": "stream",
          "text": [
            "Null Hypothesis: Not Rejected\n",
            "Conclusion: mean = 23\n"
          ],
          "name": "stdout"
        }
      ]
    },
    {
      "cell_type": "markdown",
      "metadata": {
        "id": "T2ubDfvPhku1"
      },
      "source": [
        "\r\n",
        "From above result we can say that population mean of BMI is equal to 23."
      ]
    },
    {
      "cell_type": "markdown",
      "metadata": {
        "id": "ZHVpLfmLiCnN"
      },
      "source": [
        "---\r\n",
        "---"
      ]
    },
    {
      "cell_type": "markdown",
      "metadata": {
        "id": "K_yA_qSngOKG"
      },
      "source": [
        "2) check if population mean value of Height is greater than 170 cm . Use 0.05 as α (los).\r\n",
        "\r\n",
        "Null Hypothesis will be\r\n",
        "\r\n",
        "Ho : mu > 170\r\n",
        "\r\n",
        "Alternate Hypothesis will be\r\n",
        "\r\n",
        "H1 : mu <= 170\r\n",
        "\r\n",
        "Here we use t test as we know the poplation variance and the sample size is less than 30."
      ]
    },
    {
      "cell_type": "code",
      "metadata": {
        "colab": {
          "base_uri": "https://localhost:8080/"
        },
        "id": "bCPNdRaZgt9_",
        "outputId": "a3540f35-2351-4bbc-a721-175cd0381596"
      },
      "source": [
        "def hypothesisTesting(df,column,H0,H1,alpha,mean,tailTest):\r\n",
        "    ts, pv = ttest_1samp(df[column].values, mean)\r\n",
        "    t2pv = pv\r\n",
        "    t1pv = pv*2\r\n",
        "    if tailTest == 1:\r\n",
        "        if t1pv < alpha:\r\n",
        "            print(\"Null Hypothesis: Rejected\")\r\n",
        "            print(\"Conclusion:\",H1)\r\n",
        "        else:\r\n",
        "            print(\"Null Hypothesis: Not Rejected\")\r\n",
        "            print(\"Conclusion:\",H0)\r\n",
        "    else:\r\n",
        "        if t2pv < alpha/2:\r\n",
        "            print(\"Null Hypothesis: Rejected\")\r\n",
        "            print(\"Conclusion:\",H1)\r\n",
        "        else:\r\n",
        "            print(\"Null Hypothesis: Not Rejected\")\r\n",
        "            print(\"Conclusion:\",H0)\r\n",
        " \r\n",
        "hypothesisTesting(data,'Height','mean > 170','mean <= 170',0.05,23,1)"
      ],
      "execution_count": 5,
      "outputs": [
        {
          "output_type": "stream",
          "text": [
            "Null Hypothesis: Rejected\n",
            "Conclusion: mean <= 170\n"
          ],
          "name": "stdout"
        }
      ]
    },
    {
      "cell_type": "markdown",
      "metadata": {
        "id": "_TkvkhW-hu5o"
      },
      "source": [
        "From above result we can say that population mean of Height is greather or  equal to 170 cm.\r\n",
        "\r\n",
        "\r\n",
        "\r\n",
        "\r\n",
        "\r\n",
        "\r\n"
      ]
    },
    {
      "cell_type": "markdown",
      "metadata": {
        "id": "MuBYPn7VnEZ6"
      },
      "source": [
        "# AB Testing"
      ]
    },
    {
      "cell_type": "markdown",
      "metadata": {
        "id": "WfGTUuyLnJ5u"
      },
      "source": [
        "Hypothesis testing is a broader term that encompasses a/b testing. Typically a hypothesis test will have a null hypothesis which could be tested against two or more samples for significance.\r\n",
        "\r\n",
        "A/B Testing goes a step further and tries to calculate implied impact from the experiment testing two randomized different variants. Randomization helps t o ensure bias is minimized but this isn't always easy to accomplish.\r\n",
        "\r\n",
        "Example :"
      ]
    },
    {
      "cell_type": "markdown",
      "metadata": {
        "id": "EZWYD0jSHszM"
      },
      "source": [
        "## ***Two Sample t test***\r\n",
        "\r\n",
        "\r\n"
      ]
    },
    {
      "cell_type": "markdown",
      "metadata": {
        "id": "1ueswyO3SswO"
      },
      "source": [
        "First, we’ll create two arrays to hold the measurements of each group of 20 plants:"
      ]
    },
    {
      "cell_type": "code",
      "metadata": {
        "id": "7-PQvI34Qqyc"
      },
      "source": [
        "group1 = np.array([14, 15, 15, 16, 13, 8, 14, 17, 16, 14, 19, 20, 21, 15, 15, 16, 16, 13, 14, 12])\r\n",
        "group2 = np.array([15, 17, 14, 17, 14, 8, 12, 19, 19, 14, 17, 22, 24, 16, 13, 16, 13, 18, 15, 13])"
      ],
      "execution_count": 6,
      "outputs": []
    },
    {
      "cell_type": "markdown",
      "metadata": {
        "id": "S5bGci6XS8oX"
      },
      "source": [
        "Before we perform the test, we need to decide if we’ll assume the two populations have equal variances or not. As a rule of thumb, we can assume the populations have equal variances if the ratio of the larger sample variance to the smaller sample variance is less than 4:1. "
      ]
    },
    {
      "cell_type": "code",
      "metadata": {
        "colab": {
          "base_uri": "https://localhost:8080/"
        },
        "id": "fpjMZjDyTDUT",
        "outputId": "c0b88e70-05b5-474a-efb0-e7fc68f447fe"
      },
      "source": [
        "#find variance for each group\r\n",
        "print(np.var(group1), np.var(group2))\r\n"
      ],
      "execution_count": 8,
      "outputs": [
        {
          "output_type": "stream",
          "text": [
            "7.727500000000001 12.260000000000002\n"
          ],
          "name": "stdout"
        }
      ]
    },
    {
      "cell_type": "markdown",
      "metadata": {
        "id": "42RoeTQrTQtO"
      },
      "source": [
        "The ratio of the larger sample variance to the smaller sample variance is 12.26 / 7.73 = 1.586, which is less than 4. This means we can assume that the population variances are equal.\r\n",
        "\r\n",
        "Thus, we can proceed to perform the two sample t-test with equal variances:"
      ]
    },
    {
      "cell_type": "markdown",
      "metadata": {
        "id": "5N0NuvVXRa-m"
      },
      "source": [
        "The two hypotheses for this particular two sample t-test are as follows:\r\n",
        "\r\n",
        "H0: µ1 = µ2 (the two population means are equal)\r\n",
        "\r\n",
        "HA: µ1 ≠µ2 (the two population means are not equal)"
      ]
    },
    {
      "cell_type": "code",
      "metadata": {
        "colab": {
          "base_uri": "https://localhost:8080/"
        },
        "id": "wBly9WKBRHzY",
        "outputId": "5b149722-3244-45e9-e584-cde8e499d3f3"
      },
      "source": [
        "#perform two sample t-test with equal variances\r\n",
        "stats.ttest_ind(a=group1, b=group2, equal_var=True)"
      ],
      "execution_count": 9,
      "outputs": [
        {
          "output_type": "execute_result",
          "data": {
            "text/plain": [
              "Ttest_indResult(statistic=-0.6337397070250238, pvalue=0.5300471010405257)"
            ]
          },
          "metadata": {
            "tags": []
          },
          "execution_count": 9
        }
      ]
    },
    {
      "cell_type": "markdown",
      "metadata": {
        "id": "jtVkOHlPScbe"
      },
      "source": [
        "The t test statistic is -0.6337 and the corresponding two-sided p-value is 0.53005."
      ]
    },
    {
      "cell_type": "markdown",
      "metadata": {
        "id": "dxOOxRXwTX2-"
      },
      "source": [
        "Because the p-value of our test (0.53005) is greater than alpha = 0.05, we fail to reject the null hypothesis of the test.\r\n",
        "\r\n",
        "We do not have sufficient evidence to say that the mean height of plants between the two populations is different."
      ]
    },
    {
      "cell_type": "markdown",
      "metadata": {
        "id": "EmoRbkqxXWF8"
      },
      "source": [
        "# Type I error"
      ]
    },
    {
      "cell_type": "markdown",
      "metadata": {
        "id": "D8rxrZfUXhUC"
      },
      "source": [
        "A type 1 error is also known as a false positive and occurs when a researcher incorrectly rejects a true null hypothesis. This means that your report that your findings are significant when in fact they have occurred by chance.\r\n",
        "\r\n",
        "The probability of making a type I error is represented by your alpha level (α), which is the p-value below which you reject the null hypothesis. A p-value of 0.05 indicates that you are willing to accept a 5% chance that you are wrong when you reject the null hypothesis.\r\n",
        "\r\n",
        "You can reduce your risk of committing a type I error by using a lower value for p. For example, a p-value of 0.01 would mean there is a 1% chance of committing a Type I error.\r\n",
        "\r\n",
        "However, using a lower value for alpha means that you will be less likely to detect a true difference if one really exists (thus risking a type II error)."
      ]
    },
    {
      "cell_type": "markdown",
      "metadata": {
        "id": "kV76cMhugy0V"
      },
      "source": [
        "Example :\r\n",
        "\r\n",
        " In above eg ,\r\n",
        " the p value is 0.53005 which is considered as type I error."
      ]
    },
    {
      "cell_type": "markdown",
      "metadata": {
        "id": "ULwdImAIXxxU"
      },
      "source": [
        "## Type II error"
      ]
    },
    {
      "cell_type": "markdown",
      "metadata": {
        "id": "Pz5Ohc-PX4D2"
      },
      "source": [
        "A type II error is also known as a false negative and occurs when a researcher fails to reject a null hypothesis which is really false. Here a researcher concludes there is not a significant effect, when actually there really is.\r\n",
        "\r\n",
        "The probability of making a type II error is called Beta (β), and this is related to the power of the statistical test (power = 1- β). You can decrease your risk of committing a type II error by ensuring your test has enough power.\r\n",
        "\r\n",
        "You can do this by ensuring your sample size is large enough to detect a practical difference when one truly exists.\r\n"
      ]
    },
    {
      "cell_type": "markdown",
      "metadata": {
        "id": "PaI4GOGWYF6C"
      },
      "source": [
        "Example :\r\n",
        "\r\n",
        "Taking example from two sample t test "
      ]
    },
    {
      "cell_type": "code",
      "metadata": {
        "colab": {
          "base_uri": "https://localhost:8080/"
        },
        "id": "sb_RHPH_XgkO",
        "outputId": "70ca6450-002f-4359-cfea-32b237e2c695"
      },
      "source": [
        "effect_size=abs((group1.mean()-group2.mean())/(group1.std()-group2.std()))\r\n",
        "sample_size=20\r\n",
        "alpha=0.05\r\n",
        "ratio=1.0\r\n",
        "\r\n",
        "statistical_power = tt_ind_solve_power(effect_size=effect_size, nobs1=sample_size, alpha=alpha, ratio=1.0, alternative='two-sided')\r\n",
        "print(statistical_power)"
      ],
      "execution_count": 10,
      "outputs": [
        {
          "output_type": "stream",
          "text": [
            "0.7927312603881692\n"
          ],
          "name": "stdout"
        }
      ]
    },
    {
      "cell_type": "code",
      "metadata": {
        "colab": {
          "base_uri": "https://localhost:8080/"
        },
        "id": "Kp0Ld4KHePY2",
        "outputId": "ea34f733-0ad7-4448-facf-0048d136707c"
      },
      "source": [
        "# type 2 error \r\n",
        "type_2_error=1-statistical_power\r\n",
        "type_2_error\r\n"
      ],
      "execution_count": 11,
      "outputs": [
        {
          "output_type": "execute_result",
          "data": {
            "text/plain": [
              "0.2072687396118308"
            ]
          },
          "metadata": {
            "tags": []
          },
          "execution_count": 11
        }
      ]
    },
    {
      "cell_type": "markdown",
      "metadata": {
        "id": "Rq5eJDNdkLVk"
      },
      "source": [
        "The  probability of type 2 error is 0.2073"
      ]
    }
  ]
}